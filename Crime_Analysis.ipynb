{
 "cells": [
  {
   "cell_type": "markdown",
   "metadata": {},
   "source": [
    "### Step 1. Import the necessary libraries"
   ]
  },
  {
   "cell_type": "code",
   "execution_count": 12,
   "metadata": {},
   "outputs": [],
   "source": [
    "import pandas as pd\n",
    "import matplotlib.pyplot as plt\n",
    "%matplotlib inline"
   ]
  },
  {
   "cell_type": "markdown",
   "metadata": {},
   "source": [
    "### Step 2. Import the dataset and print the first five records. "
   ]
  },
  {
   "cell_type": "code",
   "execution_count": 13,
   "metadata": {},
   "outputs": [
    {
     "data": {
      "text/html": [
       "<div>\n",
       "<style scoped>\n",
       "    .dataframe tbody tr th:only-of-type {\n",
       "        vertical-align: middle;\n",
       "    }\n",
       "\n",
       "    .dataframe tbody tr th {\n",
       "        vertical-align: top;\n",
       "    }\n",
       "\n",
       "    .dataframe thead th {\n",
       "        text-align: right;\n",
       "    }\n",
       "</style>\n",
       "<table border=\"1\" class=\"dataframe\">\n",
       "  <thead>\n",
       "    <tr style=\"text-align: right;\">\n",
       "      <th></th>\n",
       "      <th>Population</th>\n",
       "      <th>Violent</th>\n",
       "      <th>Property</th>\n",
       "      <th>Murder</th>\n",
       "      <th>Forcible_Rape</th>\n",
       "      <th>Robbery</th>\n",
       "      <th>Aggravated_assault</th>\n",
       "      <th>Burglary</th>\n",
       "      <th>Larceny_Theft</th>\n",
       "      <th>Vehicle_Theft</th>\n",
       "    </tr>\n",
       "    <tr>\n",
       "      <th>Year</th>\n",
       "      <th></th>\n",
       "      <th></th>\n",
       "      <th></th>\n",
       "      <th></th>\n",
       "      <th></th>\n",
       "      <th></th>\n",
       "      <th></th>\n",
       "      <th></th>\n",
       "      <th></th>\n",
       "      <th></th>\n",
       "    </tr>\n",
       "  </thead>\n",
       "  <tbody>\n",
       "    <tr>\n",
       "      <th>1960</th>\n",
       "      <td>179323175</td>\n",
       "      <td>288460</td>\n",
       "      <td>3095700</td>\n",
       "      <td>9110</td>\n",
       "      <td>17190</td>\n",
       "      <td>107840</td>\n",
       "      <td>154320</td>\n",
       "      <td>912100</td>\n",
       "      <td>1855400</td>\n",
       "      <td>328200</td>\n",
       "    </tr>\n",
       "    <tr>\n",
       "      <th>1961</th>\n",
       "      <td>182992000</td>\n",
       "      <td>289390</td>\n",
       "      <td>3198600</td>\n",
       "      <td>8740</td>\n",
       "      <td>17220</td>\n",
       "      <td>106670</td>\n",
       "      <td>156760</td>\n",
       "      <td>949600</td>\n",
       "      <td>1913000</td>\n",
       "      <td>336000</td>\n",
       "    </tr>\n",
       "    <tr>\n",
       "      <th>1962</th>\n",
       "      <td>185771000</td>\n",
       "      <td>301510</td>\n",
       "      <td>3450700</td>\n",
       "      <td>8530</td>\n",
       "      <td>17550</td>\n",
       "      <td>110860</td>\n",
       "      <td>164570</td>\n",
       "      <td>994300</td>\n",
       "      <td>2089600</td>\n",
       "      <td>366800</td>\n",
       "    </tr>\n",
       "    <tr>\n",
       "      <th>1963</th>\n",
       "      <td>188483000</td>\n",
       "      <td>316970</td>\n",
       "      <td>3792500</td>\n",
       "      <td>8640</td>\n",
       "      <td>17650</td>\n",
       "      <td>116470</td>\n",
       "      <td>174210</td>\n",
       "      <td>1086400</td>\n",
       "      <td>2297800</td>\n",
       "      <td>408300</td>\n",
       "    </tr>\n",
       "    <tr>\n",
       "      <th>1964</th>\n",
       "      <td>191141000</td>\n",
       "      <td>364220</td>\n",
       "      <td>4200400</td>\n",
       "      <td>9360</td>\n",
       "      <td>21420</td>\n",
       "      <td>130390</td>\n",
       "      <td>203050</td>\n",
       "      <td>1213200</td>\n",
       "      <td>2514400</td>\n",
       "      <td>472800</td>\n",
       "    </tr>\n",
       "  </tbody>\n",
       "</table>\n",
       "</div>"
      ],
      "text/plain": [
       "      Population  Violent  Property  Murder  Forcible_Rape  Robbery  \\\n",
       "Year                                                                  \n",
       "1960   179323175   288460   3095700    9110          17190   107840   \n",
       "1961   182992000   289390   3198600    8740          17220   106670   \n",
       "1962   185771000   301510   3450700    8530          17550   110860   \n",
       "1963   188483000   316970   3792500    8640          17650   116470   \n",
       "1964   191141000   364220   4200400    9360          21420   130390   \n",
       "\n",
       "      Aggravated_assault  Burglary  Larceny_Theft  Vehicle_Theft  \n",
       "Year                                                              \n",
       "1960              154320    912100        1855400         328200  \n",
       "1961              156760    949600        1913000         336000  \n",
       "1962              164570    994300        2089600         366800  \n",
       "1963              174210   1086400        2297800         408300  \n",
       "1964              203050   1213200        2514400         472800  "
      ]
     },
     "execution_count": 13,
     "metadata": {},
     "output_type": "execute_result"
    }
   ],
   "source": [
    "#index_col=0\n",
    "crime = pd.read_csv('./crime.csv', index_col=0)\n",
    "crime.head()"
   ]
  },
  {
   "cell_type": "markdown",
   "metadata": {},
   "source": [
    "### Step 3. What is the type of the columns?"
   ]
  },
  {
   "cell_type": "code",
   "execution_count": 14,
   "metadata": {},
   "outputs": [
    {
     "data": {
      "text/plain": [
       "Population            int64\n",
       "Violent               int64\n",
       "Property              int64\n",
       "Murder                int64\n",
       "Forcible_Rape         int64\n",
       "Robbery               int64\n",
       "Aggravated_assault    int64\n",
       "Burglary              int64\n",
       "Larceny_Theft         int64\n",
       "Vehicle_Theft         int64\n",
       "dtype: object"
      ]
     },
     "execution_count": 14,
     "metadata": {},
     "output_type": "execute_result"
    }
   ],
   "source": [
    "crime.dtypes"
   ]
  },
  {
   "cell_type": "markdown",
   "metadata": {},
   "source": [
    "### Step 4. Generate descriptive statistics"
   ]
  },
  {
   "cell_type": "code",
   "execution_count": 15,
   "metadata": {},
   "outputs": [
    {
     "data": {
      "text/html": [
       "<div>\n",
       "<style scoped>\n",
       "    .dataframe tbody tr th:only-of-type {\n",
       "        vertical-align: middle;\n",
       "    }\n",
       "\n",
       "    .dataframe tbody tr th {\n",
       "        vertical-align: top;\n",
       "    }\n",
       "\n",
       "    .dataframe thead th {\n",
       "        text-align: right;\n",
       "    }\n",
       "</style>\n",
       "<table border=\"1\" class=\"dataframe\">\n",
       "  <thead>\n",
       "    <tr style=\"text-align: right;\">\n",
       "      <th></th>\n",
       "      <th>count</th>\n",
       "      <th>mean</th>\n",
       "      <th>std</th>\n",
       "      <th>min</th>\n",
       "      <th>25%</th>\n",
       "      <th>50%</th>\n",
       "      <th>75%</th>\n",
       "      <th>max</th>\n",
       "    </tr>\n",
       "  </thead>\n",
       "  <tbody>\n",
       "    <tr>\n",
       "      <th>Population</th>\n",
       "      <td>55.0</td>\n",
       "      <td>2.461556e+08</td>\n",
       "      <td>4.166216e+07</td>\n",
       "      <td>179323175.0</td>\n",
       "      <td>210621500.0</td>\n",
       "      <td>242282918.0</td>\n",
       "      <td>283369732.5</td>\n",
       "      <td>318857056.0</td>\n",
       "    </tr>\n",
       "    <tr>\n",
       "      <th>Violent</th>\n",
       "      <td>55.0</td>\n",
       "      <td>1.188806e+06</td>\n",
       "      <td>4.597107e+05</td>\n",
       "      <td>288460.0</td>\n",
       "      <td>925315.0</td>\n",
       "      <td>1322390.0</td>\n",
       "      <td>1432762.0</td>\n",
       "      <td>1932270.0</td>\n",
       "    </tr>\n",
       "    <tr>\n",
       "      <th>Property</th>\n",
       "      <td>55.0</td>\n",
       "      <td>9.412499e+06</td>\n",
       "      <td>2.738512e+06</td>\n",
       "      <td>3095700.0</td>\n",
       "      <td>8060014.5</td>\n",
       "      <td>10182586.0</td>\n",
       "      <td>11605087.5</td>\n",
       "      <td>12961100.0</td>\n",
       "    </tr>\n",
       "    <tr>\n",
       "      <th>Murder</th>\n",
       "      <td>55.0</td>\n",
       "      <td>1.731724e+04</td>\n",
       "      <td>4.267443e+03</td>\n",
       "      <td>8530.0</td>\n",
       "      <td>14819.0</td>\n",
       "      <td>17030.0</td>\n",
       "      <td>20561.5</td>\n",
       "      <td>24700.0</td>\n",
       "    </tr>\n",
       "    <tr>\n",
       "      <th>Forcible_Rape</th>\n",
       "      <td>55.0</td>\n",
       "      <td>7.271480e+04</td>\n",
       "      <td>2.827801e+04</td>\n",
       "      <td>17190.0</td>\n",
       "      <td>53400.0</td>\n",
       "      <td>84230.0</td>\n",
       "      <td>92930.0</td>\n",
       "      <td>109060.0</td>\n",
       "    </tr>\n",
       "    <tr>\n",
       "      <th>Robbery</th>\n",
       "      <td>55.0</td>\n",
       "      <td>4.164499e+05</td>\n",
       "      <td>1.505064e+05</td>\n",
       "      <td>106670.0</td>\n",
       "      <td>354911.5</td>\n",
       "      <td>423557.0</td>\n",
       "      <td>512137.0</td>\n",
       "      <td>687730.0</td>\n",
       "    </tr>\n",
       "    <tr>\n",
       "      <th>Aggravated_assault</th>\n",
       "      <td>55.0</td>\n",
       "      <td>6.811818e+05</td>\n",
       "      <td>2.960255e+05</td>\n",
       "      <td>154320.0</td>\n",
       "      <td>438430.0</td>\n",
       "      <td>741291.0</td>\n",
       "      <td>900215.0</td>\n",
       "      <td>1135610.0</td>\n",
       "    </tr>\n",
       "    <tr>\n",
       "      <th>Burglary</th>\n",
       "      <td>55.0</td>\n",
       "      <td>2.424017e+06</td>\n",
       "      <td>7.259004e+05</td>\n",
       "      <td>912100.0</td>\n",
       "      <td>2105335.5</td>\n",
       "      <td>2329950.0</td>\n",
       "      <td>3073600.0</td>\n",
       "      <td>3795200.0</td>\n",
       "    </tr>\n",
       "    <tr>\n",
       "      <th>Larceny_Theft</th>\n",
       "      <td>55.0</td>\n",
       "      <td>5.959947e+06</td>\n",
       "      <td>1.846401e+06</td>\n",
       "      <td>1855400.0</td>\n",
       "      <td>4843350.0</td>\n",
       "      <td>6591900.0</td>\n",
       "      <td>7168450.0</td>\n",
       "      <td>8142200.0</td>\n",
       "    </tr>\n",
       "    <tr>\n",
       "      <th>Vehicle_Theft</th>\n",
       "      <td>55.0</td>\n",
       "      <td>1.028614e+06</td>\n",
       "      <td>3.455693e+05</td>\n",
       "      <td>328200.0</td>\n",
       "      <td>789626.0</td>\n",
       "      <td>1032200.0</td>\n",
       "      <td>1239302.5</td>\n",
       "      <td>1661700.0</td>\n",
       "    </tr>\n",
       "  </tbody>\n",
       "</table>\n",
       "</div>"
      ],
      "text/plain": [
       "                    count          mean           std          min  \\\n",
       "Population           55.0  2.461556e+08  4.166216e+07  179323175.0   \n",
       "Violent              55.0  1.188806e+06  4.597107e+05     288460.0   \n",
       "Property             55.0  9.412499e+06  2.738512e+06    3095700.0   \n",
       "Murder               55.0  1.731724e+04  4.267443e+03       8530.0   \n",
       "Forcible_Rape        55.0  7.271480e+04  2.827801e+04      17190.0   \n",
       "Robbery              55.0  4.164499e+05  1.505064e+05     106670.0   \n",
       "Aggravated_assault   55.0  6.811818e+05  2.960255e+05     154320.0   \n",
       "Burglary             55.0  2.424017e+06  7.259004e+05     912100.0   \n",
       "Larceny_Theft        55.0  5.959947e+06  1.846401e+06    1855400.0   \n",
       "Vehicle_Theft        55.0  1.028614e+06  3.455693e+05     328200.0   \n",
       "\n",
       "                            25%          50%          75%          max  \n",
       "Population          210621500.0  242282918.0  283369732.5  318857056.0  \n",
       "Violent                925315.0    1322390.0    1432762.0    1932270.0  \n",
       "Property              8060014.5   10182586.0   11605087.5   12961100.0  \n",
       "Murder                  14819.0      17030.0      20561.5      24700.0  \n",
       "Forcible_Rape           53400.0      84230.0      92930.0     109060.0  \n",
       "Robbery                354911.5     423557.0     512137.0     687730.0  \n",
       "Aggravated_assault     438430.0     741291.0     900215.0    1135610.0  \n",
       "Burglary              2105335.5    2329950.0    3073600.0    3795200.0  \n",
       "Larceny_Theft         4843350.0    6591900.0    7168450.0    8142200.0  \n",
       "Vehicle_Theft          789626.0    1032200.0    1239302.5    1661700.0  "
      ]
     },
     "execution_count": 15,
     "metadata": {},
     "output_type": "execute_result"
    }
   ],
   "source": [
    "crime.describe().T"
   ]
  },
  {
   "cell_type": "markdown",
   "metadata": {},
   "source": [
    "### Step 5. Add a new column \"Total\". "
   ]
  },
  {
   "cell_type": "markdown",
   "metadata": {},
   "source": [
    "**This column contains the total crime happened each year**"
   ]
  },
  {
   "cell_type": "code",
   "execution_count": 16,
   "metadata": {},
   "outputs": [
    {
     "data": {
      "text/html": [
       "<div>\n",
       "<style scoped>\n",
       "    .dataframe tbody tr th:only-of-type {\n",
       "        vertical-align: middle;\n",
       "    }\n",
       "\n",
       "    .dataframe tbody tr th {\n",
       "        vertical-align: top;\n",
       "    }\n",
       "\n",
       "    .dataframe thead th {\n",
       "        text-align: right;\n",
       "    }\n",
       "</style>\n",
       "<table border=\"1\" class=\"dataframe\">\n",
       "  <thead>\n",
       "    <tr style=\"text-align: right;\">\n",
       "      <th></th>\n",
       "      <th>Population</th>\n",
       "      <th>Violent</th>\n",
       "      <th>Property</th>\n",
       "      <th>Murder</th>\n",
       "      <th>Forcible_Rape</th>\n",
       "      <th>Robbery</th>\n",
       "      <th>Aggravated_assault</th>\n",
       "      <th>Burglary</th>\n",
       "      <th>Larceny_Theft</th>\n",
       "      <th>Vehicle_Theft</th>\n",
       "      <th>Total</th>\n",
       "    </tr>\n",
       "    <tr>\n",
       "      <th>Year</th>\n",
       "      <th></th>\n",
       "      <th></th>\n",
       "      <th></th>\n",
       "      <th></th>\n",
       "      <th></th>\n",
       "      <th></th>\n",
       "      <th></th>\n",
       "      <th></th>\n",
       "      <th></th>\n",
       "      <th></th>\n",
       "      <th></th>\n",
       "    </tr>\n",
       "  </thead>\n",
       "  <tbody>\n",
       "    <tr>\n",
       "      <th>1960</th>\n",
       "      <td>179323175</td>\n",
       "      <td>288460</td>\n",
       "      <td>3095700</td>\n",
       "      <td>9110</td>\n",
       "      <td>17190</td>\n",
       "      <td>107840</td>\n",
       "      <td>154320</td>\n",
       "      <td>912100</td>\n",
       "      <td>1855400</td>\n",
       "      <td>328200</td>\n",
       "      <td>6768320</td>\n",
       "    </tr>\n",
       "    <tr>\n",
       "      <th>1961</th>\n",
       "      <td>182992000</td>\n",
       "      <td>289390</td>\n",
       "      <td>3198600</td>\n",
       "      <td>8740</td>\n",
       "      <td>17220</td>\n",
       "      <td>106670</td>\n",
       "      <td>156760</td>\n",
       "      <td>949600</td>\n",
       "      <td>1913000</td>\n",
       "      <td>336000</td>\n",
       "      <td>6975980</td>\n",
       "    </tr>\n",
       "    <tr>\n",
       "      <th>1962</th>\n",
       "      <td>185771000</td>\n",
       "      <td>301510</td>\n",
       "      <td>3450700</td>\n",
       "      <td>8530</td>\n",
       "      <td>17550</td>\n",
       "      <td>110860</td>\n",
       "      <td>164570</td>\n",
       "      <td>994300</td>\n",
       "      <td>2089600</td>\n",
       "      <td>366800</td>\n",
       "      <td>7504420</td>\n",
       "    </tr>\n",
       "    <tr>\n",
       "      <th>1963</th>\n",
       "      <td>188483000</td>\n",
       "      <td>316970</td>\n",
       "      <td>3792500</td>\n",
       "      <td>8640</td>\n",
       "      <td>17650</td>\n",
       "      <td>116470</td>\n",
       "      <td>174210</td>\n",
       "      <td>1086400</td>\n",
       "      <td>2297800</td>\n",
       "      <td>408300</td>\n",
       "      <td>8218940</td>\n",
       "    </tr>\n",
       "    <tr>\n",
       "      <th>1964</th>\n",
       "      <td>191141000</td>\n",
       "      <td>364220</td>\n",
       "      <td>4200400</td>\n",
       "      <td>9360</td>\n",
       "      <td>21420</td>\n",
       "      <td>130390</td>\n",
       "      <td>203050</td>\n",
       "      <td>1213200</td>\n",
       "      <td>2514400</td>\n",
       "      <td>472800</td>\n",
       "      <td>9129240</td>\n",
       "    </tr>\n",
       "  </tbody>\n",
       "</table>\n",
       "</div>"
      ],
      "text/plain": [
       "      Population  Violent  Property  Murder  Forcible_Rape  Robbery  \\\n",
       "Year                                                                  \n",
       "1960   179323175   288460   3095700    9110          17190   107840   \n",
       "1961   182992000   289390   3198600    8740          17220   106670   \n",
       "1962   185771000   301510   3450700    8530          17550   110860   \n",
       "1963   188483000   316970   3792500    8640          17650   116470   \n",
       "1964   191141000   364220   4200400    9360          21420   130390   \n",
       "\n",
       "      Aggravated_assault  Burglary  Larceny_Theft  Vehicle_Theft    Total  \n",
       "Year                                                                       \n",
       "1960              154320    912100        1855400         328200  6768320  \n",
       "1961              156760    949600        1913000         336000  6975980  \n",
       "1962              164570    994300        2089600         366800  7504420  \n",
       "1963              174210   1086400        2297800         408300  8218940  \n",
       "1964              203050   1213200        2514400         472800  9129240  "
      ]
     },
     "execution_count": 16,
     "metadata": {},
     "output_type": "execute_result"
    }
   ],
   "source": [
    "#To exclude the column \"Population\" by creating a list of columns and then excluding the \"Population\" list item \n",
    "crime_category = list(crime)\n",
    "crime_category.remove(\"Population\")\n",
    "\n",
    "#To Sum only the Crime Category columns across each row/Year\n",
    "crime[\"Total\"]=crime[crime_category].sum(axis=1)\n",
    "crime.head()"
   ]
  },
  {
   "cell_type": "markdown",
   "metadata": {},
   "source": [
    "### Step 6. Which are those years when the total crime exceeded 25000000?"
   ]
  },
  {
   "cell_type": "code",
   "execution_count": 17,
   "metadata": {},
   "outputs": [
    {
     "name": "stdout",
     "output_type": "stream",
     "text": [
      "The years when when the total crime exceeded 25000000 were: \n",
      "         Total\n",
      "Year          \n",
      "1980  26816540\n",
      "1981  26847450\n",
      "1982  25948780\n",
      "1986  26423738\n",
      "1987  27017455\n",
      "1988  27846250\n",
      "1989  28502880\n",
      "1990  28951260\n",
      "1991  29745730\n",
      "1992  28876340\n",
      "1993  28289640\n",
      "1994  27979150\n",
      "1995  27725390\n",
      "1996  26987680\n",
      "1997  26387516\n"
     ]
    }
   ],
   "source": [
    "df = crime[crime['Total']>25000000]\n",
    "\n",
    "high_crime = crime[crime['Total']>25000000]\n",
    "print(\"The years when when the total crime exceeded 25000000 were: \\n\"+ str(high_crime[['Total']]))"
   ]
  },
  {
   "cell_type": "markdown",
   "metadata": {},
   "source": [
    "### Step 7. Find the year when crime was at its minimum."
   ]
  },
  {
   "cell_type": "code",
   "execution_count": 18,
   "metadata": {},
   "outputs": [
    {
     "name": "stdout",
     "output_type": "stream",
     "text": [
      "The year when crime was at its minimum was: 1960\n"
     ]
    }
   ],
   "source": [
    "yearly_crime = crime[['Total']].index\n",
    "min_crime = yearly_crime.min()\n",
    "print(\"The year when crime was at its minimum was: \"+str(min_crime))"
   ]
  },
  {
   "cell_type": "markdown",
   "metadata": {},
   "source": [
    "### Step 8. When was the most dangerous and the safest decade to live in this country?"
   ]
  },
  {
   "cell_type": "markdown",
   "metadata": {},
   "source": [
    "**Hint:** https://www.thetopsites.net/article/54003707.shtml"
   ]
  },
  {
   "cell_type": "code",
   "execution_count": 19,
   "metadata": {},
   "outputs": [
    {
     "ename": "AttributeError",
     "evalue": "'int' object has no attribute 'index'",
     "output_type": "error",
     "traceback": [
      "\u001b[1;31m---------------------------------------------------------------------------\u001b[0m",
      "\u001b[1;31mAttributeError\u001b[0m                            Traceback (most recent call last)",
      "\u001b[1;32m<ipython-input-19-3bcf2e74a74f>\u001b[0m in \u001b[0;36m<module>\u001b[1;34m\u001b[0m\n\u001b[0;32m      4\u001b[0m \u001b[1;31m#Most dandergous decade\u001b[0m\u001b[1;33m\u001b[0m\u001b[1;33m\u001b[0m\u001b[1;33m\u001b[0m\u001b[0m\n\u001b[0;32m      5\u001b[0m \u001b[0mdangerous_decade\u001b[0m \u001b[1;33m=\u001b[0m \u001b[0mdecade_total\u001b[0m\u001b[1;33m[\u001b[0m\u001b[1;34m'Total'\u001b[0m\u001b[1;33m]\u001b[0m\u001b[1;33m.\u001b[0m\u001b[0mmax\u001b[0m\u001b[1;33m(\u001b[0m\u001b[1;33m)\u001b[0m\u001b[1;33m\u001b[0m\u001b[1;33m\u001b[0m\u001b[0m\n\u001b[1;32m----> 6\u001b[1;33m \u001b[0mdangerous_decade\u001b[0m\u001b[1;33m.\u001b[0m\u001b[0mindex\u001b[0m\u001b[1;33m\u001b[0m\u001b[1;33m\u001b[0m\u001b[0m\n\u001b[0m\u001b[0;32m      7\u001b[0m \u001b[0mprint\u001b[0m\u001b[1;33m(\u001b[0m\u001b[1;34m\"The most dangerous decade was: \"\u001b[0m\u001b[1;33m+\u001b[0m\u001b[0mstr\u001b[0m\u001b[1;33m(\u001b[0m\u001b[0mdangerous_decade\u001b[0m\u001b[1;33m)\u001b[0m\u001b[1;33m)\u001b[0m\u001b[1;33m\u001b[0m\u001b[1;33m\u001b[0m\u001b[0m\n\u001b[0;32m      8\u001b[0m \u001b[1;33m\u001b[0m\u001b[0m\n",
      "\u001b[1;31mAttributeError\u001b[0m: 'int' object has no attribute 'index'"
     ]
    }
   ],
   "source": [
    "#Set up of decades\n",
    "decade_total = crime.groupby((crime[['Total']].index//10)*10).sum()\n",
    "\n",
    "#Most dandergous decade\n",
    "dangerous_decade = decade_total['Total'].index.max()\n",
    "print(\"The most dangerous decade was: \"+str(dangerous_decade))\n",
    "\n",
    "#Safest decade\n",
    "safest_decade = decade_total['Total'].index.min()\n",
    "print(\"The safest decade was: \"+str(safest_decade))"
   ]
  },
  {
   "cell_type": "markdown",
   "metadata": {},
   "source": [
    "### Step 9. Visualize the Crime Rate"
   ]
  },
  {
   "cell_type": "code",
   "execution_count": 692,
   "metadata": {},
   "outputs": [
    {
     "data": {
      "image/png": "[encoded data removed]",
      "text/plain": [
       "<Figure size 432x288 with 1 Axes>"
      ]
     },
     "metadata": {
      "needs_background": "light"
     },
     "output_type": "display_data"
    }
   ],
   "source": [
    "#Plot Lines\n",
    "plt.plot(crime.index, crime[['Violent']],label='Violent')\n",
    "plt.plot(crime.index, crime[['Property']],label='Property')\n",
    "plt.plot(crime.index, crime[['Murder']],label='Murder')\n",
    "plt.plot(crime.index, crime[['Forcible_Rape']],label='Forcible Rape')\n",
    "plt.plot(crime.index, crime[['Robbery']],label='Robbery')\n",
    "plt.plot(crime.index, crime[['Aggravated_assault']],label='Aggravated Assault')\n",
    "plt.plot(crime.index, crime[['Burglary']],label='Burglary')\n",
    "plt.plot(crime.index, crime[['Larceny_Theft']],label='Larceny Theft')\n",
    "plt.plot(crime.index, crime[['Vehicle_Theft']],label='Vehicle Theft')\n",
    "\n",
    "#Titles\n",
    "plt.title('Crime by Year')\n",
    "plt.xlabel('Year')\n",
    "plt.ylabel('Crime')\n",
    "\n",
    "#Legend \n",
    "plt.legend(bbox_to_anchor=(1.05, 1), loc=2)\n",
    "plt.show()"
   ]
  },
  {
   "cell_type": "markdown",
   "metadata": {},
   "source": [
    "**Based on the visualization identify which crime is the most frequent and less frequent.** "
   ]
  },
  {
   "cell_type": "markdown",
   "metadata": {},
   "source": [
    "Based on the visualization Property Crime is the most frequent and Murder is less frequent."
   ]
  },
  {
   "cell_type": "markdown",
   "metadata": {},
   "source": [
    "### Step 10. Find two other compelling findings from the gven dataset. "
   ]
  },
  {
   "cell_type": "markdown",
   "metadata": {},
   "source": [
    "10 (a). For the first insight, the analysis would identify the proportion, on average, the top 3 categories account for as a percentage of total crime. The top 3 categories are picked from the visualization."
   ]
  },
  {
   "cell_type": "code",
   "execution_count": 723,
   "metadata": {},
   "outputs": [
    {
     "data": {
      "text/plain": [
       "84.3030182486237"
      ]
     },
     "execution_count": 723,
     "metadata": {},
     "output_type": "execute_result"
    }
   ],
   "source": [
    "top3 = ((crime[\"Property\"]+crime[\"Larceny_Theft\"]+crime[\"Burglary\"])/crime[\"Total\"])*100\n",
    "top3.mean()"
   ]
  },
  {
   "cell_type": "markdown",
   "metadata": {},
   "source": [
    "Findings: The top 3 crime categories account for nearly 85% of all crime on average."
   ]
  },
  {
   "cell_type": "markdown",
   "metadata": {},
   "source": [
    "10 (b). For the second insight, the analysis would identify which years had the lowest and the highest amount of crime per population."
   ]
  },
  {
   "cell_type": "code",
   "execution_count": 724,
   "metadata": {},
   "outputs": [
    {
     "name": "stdout",
     "output_type": "stream",
     "text": [
      "Findings:\n",
      "The year with the highest crime per population rate was: 2014\n",
      "The year with the lowest crime per population rate was: 1960\n"
     ]
    }
   ],
   "source": [
    "high_crime_population = (crime[\"Total\"]/crime[\"Population\"]).index.max()\n",
    "low_crime_population = (crime[\"Total\"]/crime[\"Population\"]).index.min()\n",
    "\n",
    "print(\"Findings:\")\n",
    "print(\"The year with the highest crime per population rate was: \"+ str(high_crime_population))\n",
    "print(\"The year with the lowest crime per population rate was: \"+ str(low_crime_population))"
   ]
  }
 ],
 "metadata": {
  "kernelspec": {
   "display_name": "Python 3",
   "language": "python",
   "name": "python3"
  },
  "language_info": {
   "codemirror_mode": {
    "name": "ipython",
    "version": 3
   },
   "file_extension": ".py",
   "mimetype": "text/x-python",
   "name": "python",
   "nbconvert_exporter": "python",
   "pygments_lexer": "ipython3",
   "version": "3.8.3"
  }
 },
 "nbformat": 4,
 "nbformat_minor": 4
}
